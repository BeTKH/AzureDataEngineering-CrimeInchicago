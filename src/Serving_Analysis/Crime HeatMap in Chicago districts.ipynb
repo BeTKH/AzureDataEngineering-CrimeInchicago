{
 "cells": [
  {
   "cell_type": "code",
   "execution_count": 0,
   "metadata": {
    "application/vnd.databricks.v1+cell": {
     "cellMetadata": {},
     "inputWidgets": {},
     "nuid": "e01dabd9-762c-471c-bdfb-ec7705c25996",
     "showTitle": false,
     "tableResultSettingsMap": {},
     "title": ""
    }
   },
   "outputs": [],
   "source": [
    "import pandas as pd\n",
    "import geopandas as gpd\n",
    "import folium\n",
    "from folium import Choropleth\n",
    "\n",
    "# Load the aggregated crime incident count data\n",
    "agg_counts_df = pd.read_csv(\"aggCount_crime_inDistricts.csv\")\n",
    "\n",
    "\n",
    "# Load the GeoJSON file for the police districts \n",
    "# downloaded from https://data.cityofchicago.org/d/fthy-xz3r.\n",
    "districts_geo = gpd.read_file(\"Chicago_Police_Districts.geojson\")\n"
   ]
  },
  {
   "cell_type": "code",
   "execution_count": 0,
   "metadata": {
    "application/vnd.databricks.v1+cell": {
     "cellMetadata": {},
     "inputWidgets": {},
     "nuid": "8688405a-82d3-4619-8fd5-ffc471dfd1dd",
     "showTitle": false,
     "tableResultSettingsMap": {},
     "title": ""
    }
   },
   "outputs": [],
   "source": [
    "agg_counts_df.head()"
   ]
  },
  {
   "cell_type": "code",
   "execution_count": 0,
   "metadata": {
    "application/vnd.databricks.v1+cell": {
     "cellMetadata": {},
     "inputWidgets": {},
     "nuid": "fe2943ec-4ce0-4d0a-bfda-6357c17d35fe",
     "showTitle": false,
     "tableResultSettingsMap": {},
     "title": ""
    }
   },
   "outputs": [],
   "source": [
    "districts_geo.head()"
   ]
  },
  {
   "cell_type": "code",
   "execution_count": 0,
   "metadata": {
    "application/vnd.databricks.v1+cell": {
     "cellMetadata": {},
     "inputWidgets": {},
     "nuid": "6a38599e-72b4-449d-b94c-a584ff979ea4",
     "showTitle": false,
     "tableResultSettingsMap": {},
     "title": ""
    }
   },
   "outputs": [],
   "source": [
    "# Check the first few rows of your dataframes\n",
    "\n",
    "# Make sure district identifiers are of the same type\n",
    "agg_counts_df['district'] = agg_counts_df['district'].astype(str)\n",
    "districts_geo['dist_num'] = districts_geo['dist_num'].astype(str)\n"
   ]
  },
  {
   "cell_type": "code",
   "execution_count": 0,
   "metadata": {
    "application/vnd.databricks.v1+cell": {
     "cellMetadata": {},
     "inputWidgets": {},
     "nuid": "d24a9108-277f-4f30-b26d-586b39361237",
     "showTitle": false,
     "tableResultSettingsMap": {},
     "title": ""
    }
   },
   "outputs": [],
   "source": [
    "# Merge the aggregated counts with the GeoDataFrame\n",
    "merged = districts_geo.set_index('dist_num').join(agg_counts_df.set_index('district'))\n"
   ]
  },
  {
   "cell_type": "code",
   "execution_count": 0,
   "metadata": {
    "application/vnd.databricks.v1+cell": {
     "cellMetadata": {},
     "inputWidgets": {},
     "nuid": "160f28ec-6493-4444-9037-2a579a594d2c",
     "showTitle": false,
     "tableResultSettingsMap": {},
     "title": ""
    }
   },
   "outputs": [],
   "source": [
    "merged.head()"
   ]
  },
  {
   "cell_type": "code",
   "execution_count": 0,
   "metadata": {
    "application/vnd.databricks.v1+cell": {
     "cellMetadata": {},
     "inputWidgets": {},
     "nuid": "d4d32823-eaf6-4558-9bb6-4755cbe11875",
     "showTitle": false,
     "tableResultSettingsMap": {},
     "title": ""
    }
   },
   "outputs": [],
   "source": [
    "import matplotlib.pyplot as plt\n",
    "import seaborn as sns\n",
    "\n",
    "# Set the Seaborn style\n",
    "sns.set(style='darkgrid')\n",
    "\n",
    "# Set up the figure\n",
    "fig, ax = plt.subplots(1, 1, figsize=(10, 10))\n",
    "\n",
    "# Plot the districts with the aggregated crime count as a heat map\n",
    "merged.plot(column='crime_count',  # Change this to the name of your crime count column\n",
    "            ax=ax,\n",
    "            legend=True,\n",
    "            cmap='Blues',  # Color map\n",
    "            missing_kwds={\"color\": \"lightgrey\"},  # Color for missing values\n",
    "            edgecolor='black')  # Border color of the districts\n",
    "\n",
    "# Set the title\n",
    "ax.set_title('Heat Map of Crime Incidents by District', fontdict={'fontsize': '15', 'fontweight': '3'})\n",
    "\n",
    "# Annotate each district with its district number\n",
    "for x, y, label in zip(merged.geometry.centroid.x, merged.geometry.centroid.y, merged['dist_label']):  # Change 'dist_num' to your district number column name\n",
    "    ax.text(x, y, label, fontsize=8, ha='center', va='center', color='black')\n",
    "\n",
    "# Save plot \n",
    "plt.savefig('heatmap_crimeIncidents_district_hardBorders.png', dpi=100, bbox_inches='tight')\n",
    "\n",
    "# Show the plot\n",
    "plt.show()"
   ]
  },
  {
   "cell_type": "code",
   "execution_count": 0,
   "metadata": {
    "application/vnd.databricks.v1+cell": {
     "cellMetadata": {},
     "inputWidgets": {},
     "nuid": "b4eb5c32-7c05-4ea1-9959-4fdede65e375",
     "showTitle": false,
     "tableResultSettingsMap": {},
     "title": ""
    }
   },
   "outputs": [],
   "source": [
    "import matplotlib.pyplot as plt\n",
    "import seaborn as sns\n",
    "from shapely.geometry import MultiPolygon\n",
    "\n",
    "# style\n",
    "sns.set(style='darkgrid')\n",
    "\n",
    "# figure size \n",
    "fig, ax = plt.subplots(1, 1, figsize=(10, 10))\n",
    "\n",
    "# Apply a buffer to soften borders\n",
    "merged['geometry'] = merged.geometry.buffer(0.006)  \n",
    "\n",
    "\n",
    "merged.plot(column='crime_count',\n",
    "            ax=ax,\n",
    "            legend=True,\n",
    "            cmap='Blues',  # Color map\n",
    "            missing_kwds={\"color\": \"lightgrey\"}, \n",
    "            edgecolor='black')  \n",
    "\n",
    "# title\n",
    "ax.set_title('Heat Map of Crime Incidents by District', fontdict={'fontsize': '15', 'fontweight': '3'})\n",
    "\n",
    "# Annotate each district \n",
    "for x, y, label in zip(merged.geometry.centroid.x, merged.geometry.centroid.y, merged['dist_label']):\n",
    "    ax.text(x, y, label, fontsize=8, ha='center', va='center', color='black')\n",
    "\n",
    "# Save plot \n",
    "plt.savefig('heatmap_crimeIncidents_district_softBorder.png', dpi=100, bbox_inches='tight')\n",
    "\n",
    "# Show the plot\n",
    "plt.show()\n"
   ]
  }
 ],
 "metadata": {
  "application/vnd.databricks.v1+notebook": {
   "dashboards": [],
   "environmentMetadata": null,
   "language": "python",
   "notebookMetadata": {},
   "notebookName": "Crime HeatMap in Chicago districts",
   "widgets": {}
  },
  "kernelspec": {
   "display_name": "Python 3 (ipykernel)",
   "language": "python",
   "name": "python3"
  },
  "language_info": {
   "name": "python"
  }
 },
 "nbformat": 4,
 "nbformat_minor": 0
}
